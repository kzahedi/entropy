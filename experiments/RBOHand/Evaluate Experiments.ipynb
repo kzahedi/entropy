{
 "cells": [
  {
   "cell_type": "code",
   "execution_count": 21,
   "metadata": {
    "collapsed": false
   },
   "outputs": [],
   "source": [
    "using ProgressMeter\n",
    "using PyPlot"
   ]
  },
  {
   "cell_type": "code",
   "execution_count": 22,
   "metadata": {
    "collapsed": false
   },
   "outputs": [
    {
     "data": {
      "text/plain": [
       "100"
      ]
     },
     "execution_count": 22,
     "metadata": {},
     "output_type": "execute_result"
    }
   ],
   "source": [
    "dpdir = \"11b25143-e0b1-49cb-a450-1b682de090fc\"\n",
    "path = \"/Users/zahedi/Dropbox/Raphael\\ -\\ Keyan/$dpdir/\"\n",
    "w_indices = \"18,19,20,33,34,35,48,49,50,63,64,65,93,94,95\"\n",
    "a_indices = \"8,9,10,11\"\n",
    "wbins     = 300\n",
    "abins     = 100"
   ]
  },
  {
   "cell_type": "markdown",
   "metadata": {},
   "source": [
    "# Process MC_W files"
   ]
  },
  {
   "cell_type": "markdown",
   "metadata": {},
   "source": [
    "### 1) Preprocessing the files"
   ]
  },
  {
   "cell_type": "code",
   "execution_count": null,
   "metadata": {
    "collapsed": false
   },
   "outputs": [],
   "source": [
    "function copy_and_convert_hand(path)\n",
    "    dirs = readdir(path)\n",
    "    dirs = filter(x->contains(x,\"hand\"), dirs)\n",
    "\n",
    "    in_dirs  = map(x->\"$path/$x/raw\", dirs)\n",
    "    out_dirs = map(x->\"$path/$x/analysis\", dirs)\n",
    "\n",
    "    p = Progress(length(in_dirs)*1, 1, \"hand.sofastates.csv ...\")\n",
    "\n",
    "    r = collect(1:7:224)\n",
    "    s = collect(2:7:224)\n",
    "    t = collect(3:7:224)\n",
    "    r = vcat(r',s',t')\n",
    "    r = vec(r)\n",
    "\n",
    "    for index in 1:length(in_dirs)\n",
    "        if isfile(\"$(in_dirs[index])/hand.sofastates.txt\")\n",
    "            a = readcsv(\"$(in_dirs[index])/hand.sofastates.txt\")[2:2:end,:]\n",
    "            a = map(x->replace(x,\"  X= \",\"\"),a)\n",
    "            m = nothing\n",
    "            for j = 1:length(a)\n",
    "                b = a[j]\n",
    "                c = split(b, \" \")\n",
    "                d = map(x->parse(Float64,x), [d for d in c])\n",
    "                f = convert(Array{Float64,1},d)'\n",
    "                if m == nothing\n",
    "                    m = f[r]'\n",
    "                else\n",
    "                    m = vcat(m, f[r]')\n",
    "                end\n",
    "            end\n",
    "\n",
    "            for j = 1:size(m)[1]\n",
    "                for k = 5:3:size(m)[2]\n",
    "                    m[j,k] -= m[j,2]\n",
    "                end\n",
    "                m[j,2] = 0.0\n",
    "            end\n",
    "            writecsv(\"$(out_dirs[index])/hand.sofastates.csv\",m)\n",
    "        end\n",
    "        next!(p)\n",
    "    end\n",
    "end\n",
    "   \n",
    "function copy_and_convert_control(path)\n",
    "    dirs = readdir(path)\n",
    "    dirs = filter(x->contains(x,\"hand\"), dirs)\n",
    "\n",
    "    in_dirs  = map(x->\"$path/$x/raw\", dirs)\n",
    "    out_dirs = map(x->\"$path/$x/analysis\", dirs)\n",
    "\n",
    "    p = Progress(length(in_dirs), 1, \"control.states.csv ...\")\n",
    "\n",
    "    for i in 1:length(in_dirs)\n",
    "        if isfile(\"$(in_dirs[i])/control.states.csv\")\n",
    "            a = readcsv(\"$(in_dirs[i])/control.states.csv\")[2:end-1,:]\n",
    "            a = map(x->Float64(x),a)\n",
    "            writecsv(\"$(out_dirs[i])/control.states.csv\",a)\n",
    "        end\n",
    "        next!(p)\n",
    "    end\n",
    "end\n",
    "\n",
    "function copy_and_convert_files(path)\n",
    "    copy_and_convert_hand(path)\n",
    "    copy_and_convert_control(path)\n",
    "end"
   ]
  },
  {
   "cell_type": "code",
   "execution_count": null,
   "metadata": {
    "collapsed": false
   },
   "outputs": [],
   "source": [
    "copy_and_convert_files(\"/Users/zahedi/Dropbox/Raphael\\ -\\ Keyan/$dpdir/\")"
   ]
  },
  {
   "cell_type": "markdown",
   "metadata": {},
   "source": [
    "### 2)  Get Min/Max Values"
   ]
  },
  {
   "cell_type": "code",
   "execution_count": null,
   "metadata": {
    "collapsed": false
   },
   "outputs": [],
   "source": [
    "function write_domains(path)\n",
    "    dirs = readdir(path)\n",
    "    dirs = filter(x->contains(x,\"hand\"), dirs)\n",
    "    \n",
    "    in_dirs      = map(x->\"$path/$x/analysis\", dirs)\n",
    "    controlfiles = map(x->\"$x/control.states.csv\",in_dirs)\n",
    "    a_domains    = map(x->\"$x/A.domains.csv\",in_dirs)\n",
    "    handfiles    = map(x->\"$x/hand.sofastates.csv\",in_dirs)\n",
    "    w_domains    = map(x->\"$x/W.domains.csv\",in_dirs)\n",
    "\n",
    "    function minmax(in_,out_)\n",
    "        a = readcsv(in_)\n",
    "        b = minimum(a,1)\n",
    "        c = maximum(a,1)\n",
    "        d = vcat(b,c)\n",
    "        writecsv(out_, d)\n",
    "    end\n",
    "\n",
    "    p = Progress(length(in_dirs), 1, \"domain files ...\")\n",
    "\n",
    "    for i = 1:length(in_dirs)\n",
    "        if isfile(controlfiles[i])\n",
    "            minmax(controlfiles[i], a_domains[i])\n",
    "        end\n",
    "        if isfile(handfiles[i])\n",
    "            minmax(handfiles[i],w_domains[i])\n",
    "        end\n",
    "        next!(p)\n",
    "    end\n",
    "end\n",
    "\n",
    "path = \"/Users/zahedi/Dropbox/Raphael\\ -\\ Keyan/$dpdir/\"\n",
    "\n",
    "write_domains(path)"
   ]
  },
  {
   "cell_type": "markdown",
   "metadata": {},
   "source": [
    "### 3)  Hand, Controller, Objects, Positions"
   ]
  },
  {
   "cell_type": "code",
   "execution_count": null,
   "metadata": {
    "collapsed": false,
    "scrolled": true
   },
   "outputs": [],
   "source": [
    "w_indices = \"18,19,20,33,34,35,48,49,50,63,64,65,93,94,95\"\n",
    "a_indices = \"8,9,10,11\"\n",
    "wbins     = 300\n",
    "abins     = 100\n",
    "\n",
    "path         = \"/Users/zahedi/Dropbox/Raphael - Keyan/$dpdir/\"\n",
    "dirs = readdir(path)\n",
    "dirs = filter(x->contains(x,\"hand\"), dirs)\n",
    "in_dirs      = map(x->\"$path/$x/analysis\", dirs)\n",
    "\n",
    "fd = open(\"Makefile.1\",\"w\")\n",
    "write(fd,\"all:\\n\")\n",
    "for d in in_dirs\n",
    "    command = \"/Users/zahedi/projects/builds/entropy-build/bin/rbo_mc -wi $(w_indices) -ai $(a_indices) -wbins $wbins -abins $abins -d \\\"$d\\\"\"   \n",
    "    write(fd,\"\\t$command\\n\")\n",
    "end\n",
    "close(fd)\n",
    "run(`make -j 4 -f Makefile.1`)"
   ]
  },
  {
   "cell_type": "markdown",
   "metadata": {
    "collapsed": true
   },
   "source": [
    "### 4) Hand, Controller, Objects, Average over positions"
   ]
  },
  {
   "cell_type": "code",
   "execution_count": null,
   "metadata": {
    "collapsed": false
   },
   "outputs": [],
   "source": [
    "path = \"/Users/zahedi/Dropbox/Raphael\\ -\\ Keyan/$dpdir/\"\n",
    "dirs = readdir(path)\n",
    "dirs = filter(x->contains(x,\"hand\"), dirs)\n",
    "\n",
    "parents = map(x->replace(x, r\"^(.+object\\w+)_.+$\", s\"\\g<1>\"),dirs)\n",
    "parents = unique(parents)\n",
    "\n",
    "for d in parents\n",
    "    mkpath(\"$path/combined/object_position/$d/analysis\")\n",
    "end\n",
    "\n",
    "pg = Progress(length(parents), 1, \"combine hand.sofastates.csv and control.states.csv ...\")\n",
    "\n",
    "for p in parents\n",
    "    ds = filter(x->contains(x,\"$(p)_\"),dirs)\n",
    "    hand = nothing\n",
    "    control = nothing\n",
    "    \n",
    "    for a in ds\n",
    "        pp = \"$path/$a/analysis/hand.sofastates.csv\"\n",
    "        if isfile(pp)\n",
    "            h = readcsv(pp)\n",
    "            if hand == nothing\n",
    "                hand = h\n",
    "            else\n",
    "                hand = vcat(hand,h)\n",
    "            end\n",
    "        else\n",
    "            println(\">  missing $pp\")\n",
    "        end\n",
    "\n",
    "        pp = \"$path/$a/analysis/control.states.csv\"\n",
    "        if isfile(pp)\n",
    "            c = readcsv(pp)\n",
    "            if control == nothing\n",
    "                control = c\n",
    "            else\n",
    "                control = vcat(control,c)\n",
    "            end\n",
    "        else\n",
    "            println(\">  missing $pp\")\n",
    "        end\n",
    "    end\n",
    "    if hand != nothing\n",
    "        writecsv(\"$path/combined/object_position/$p/analysis/hand.sofastates.csv\",hand)\n",
    "    end\n",
    "    if control != nothing\n",
    "        writecsv(\"$path/combined/object_position/$p/analysis/control.states.csv\", control)\n",
    "    end\n",
    "    next!(pg)\n",
    "end"
   ]
  },
  {
   "cell_type": "code",
   "execution_count": null,
   "metadata": {
    "collapsed": false
   },
   "outputs": [],
   "source": [
    "write_domains(\"/Users/zahedi/Dropbox/Raphael - Keyan/$dpdir/combined/object_position/\")"
   ]
  },
  {
   "cell_type": "code",
   "execution_count": null,
   "metadata": {
    "collapsed": false
   },
   "outputs": [],
   "source": [
    "dirs = readdir(path)\n",
    "dirs = filter(x->contains(x,\"hand\"), dirs)\n",
    "\n",
    "parents = map(x->replace(x, r\"^(.+object\\w+)_.+$\", s\"\\g<1>\"),dirs)\n",
    "parents = unique(parents)\n",
    "\n",
    "fd = open(\"Makefile.2\",\"w\")\n",
    "write(fd,\"all:\\n\")\n",
    "for p in parents\n",
    "    command = \"/Users/zahedi/projects/builds/entropy-build/bin/rbo_mc -wi $(w_indices) -ai $(a_indices) -wbins $wbins -abins $abins -d \\\"$path/combined/object_position/$p/analysis\\\"\"   \n",
    "    write(fd,\"\\t$command\\n\")\n",
    "end\n",
    "close(fd)\n",
    "run(`make -j 4 -f Makefile.2`)"
   ]
  },
  {
   "cell_type": "markdown",
   "metadata": {},
   "source": [
    "### 5) Hand, Controller, Avg over Objects, Position = 0.0, 0.0, 0.0"
   ]
  },
  {
   "cell_type": "code",
   "execution_count": null,
   "metadata": {
    "collapsed": false
   },
   "outputs": [],
   "source": [
    "path = \"/Users/zahedi/Dropbox/Raphael\\ -\\ Keyan/$dpdir/\"\n",
    "dirs = readdir(path)\n",
    "dirs = filter(x->contains(x,\"hand\"), dirs)\n",
    "dirs = filter(x->contains(x,\"_0.0_0.0_0.0\"), dirs)\n",
    "\n",
    "parents = map(x->replace(x, r\"^(.+)-object\\w+_0.0_0.0_0.0\", s\"\\g<1>\"),dirs)\n",
    "parents = unique(parents)\n",
    "\n",
    "for d in parents\n",
    "    mkpath(\"$path/combined/object_position_0/$d/analysis\")\n",
    "end\n",
    "\n",
    "for p in parents\n",
    "    println(p)\n",
    "    ds = filter(x->contains(x,\"$(p)\"),dirs)\n",
    "    hand = nothing\n",
    "    control = nothing\n",
    "    \n",
    "    for a in ds\n",
    "        pp = \"$path/$a/analysis/hand.sofastates.csv\"\n",
    "        #println(pp)\n",
    "        #println(a)\n",
    "        if isfile(pp)\n",
    "            h = readcsv(pp)\n",
    "            if hand == nothing\n",
    "                hand = h\n",
    "            else\n",
    "                hand = vcat(hand,h)\n",
    "            end\n",
    "        else\n",
    "            println(\">  missing $pp\")\n",
    "        end\n",
    "\n",
    "        pp = \"$path/$a/analysis/control.states.csv\"\n",
    "        if isfile(pp)\n",
    "            c = readcsv(pp)\n",
    "            if control == nothing\n",
    "                control = c\n",
    "            else\n",
    "                control = vcat(control,c)\n",
    "            end\n",
    "        else\n",
    "            println(\">  missing $pp\")\n",
    "        end\n",
    "    end\n",
    "    if hand != nothing\n",
    "        writecsv(\"$path/combined/object_position_0/$p/analysis/hand.sofastates.csv\",hand)\n",
    "    end\n",
    "    if control != nothing\n",
    "        writecsv(\"$path/combined/object_position_0/$p/analysis/control.states.csv\", control)\n",
    "    end\n",
    "    next!(pg)\n",
    "end\n",
    "\n",
    "write_domains(\"/Users/zahedi/Dropbox/Raphael - Keyan/$dpdir/combined/object_position_0/\")\n",
    "\n",
    "path = \"/Users/zahedi/Dropbox/Raphael\\ -\\ Keyan/$dpdir/\"\n",
    "dirs = readdir(path)\n",
    "dirs = filter(x->contains(x,\"hand\"), dirs)\n",
    "dirs = filter(x->contains(x,\"_0.0_0.0_0.0\"), dirs)\n",
    "\n",
    "parents = map(x->replace(x, r\"^(.+)-object\\w+_0.0_0.0_0.0\", s\"\\g<1>\"),dirs)\n",
    "parents = unique(parents)\n",
    "\n",
    "fd = open(\"Makefile.3\",\"w\")\n",
    "write(fd,\"all:\\n\")\n",
    "for p in parents\n",
    "    command = \"/Users/zahedi/projects/builds/entropy-build/bin/rbo_mc -wi $(w_indices) -ai $(a_indices) -wbins $wbins -abins $abins -d \\\"$path/combined/object_position_0/$p/analysis\\\"\"   \n",
    "    write(fd,\"\\t$command\\n\")\n",
    "end\n",
    "close(fd)\n",
    "run(`make -j 4 -f Makefile.3`)"
   ]
  },
  {
   "cell_type": "markdown",
   "metadata": {},
   "source": [
    "### 6) Hand, Controller, Avg over Objects, Avg Position"
   ]
  },
  {
   "cell_type": "code",
   "execution_count": null,
   "metadata": {
    "collapsed": false
   },
   "outputs": [],
   "source": [
    "path = \"/Users/zahedi/Dropbox/Raphael\\ -\\ Keyan/$dpdir/\"\n",
    "dirs = readdir(path)\n",
    "dirs = filter(x->contains(x,\"hand\"), dirs)\n",
    "\n",
    "parents = map(x->replace(x, r\"^(.+)-object.+\", s\"\\g<1>\"),dirs)\n",
    "parents = unique(parents)\n",
    "\n",
    "for d in parents\n",
    "    mkpath(\"$path/combined/hand_control/$d/analysis\")\n",
    "end\n",
    "\n",
    "for p in parents\n",
    "    println(p)\n",
    "    ds = filter(x->contains(x,\"$(p)\"),dirs)\n",
    "    hand = nothing\n",
    "    control = nothing\n",
    "    \n",
    "    for a in ds\n",
    "        pp = \"$path/$a/analysis/hand.sofastates.csv\"\n",
    "        #println(pp)\n",
    "        #println(a)\n",
    "        if isfile(pp)\n",
    "            h = readcsv(pp)\n",
    "            if hand == nothing\n",
    "                hand = h\n",
    "            else\n",
    "                hand = vcat(hand,h)\n",
    "            end\n",
    "        else\n",
    "            println(\">  missing $pp\")\n",
    "        end\n",
    "\n",
    "        pp = \"$path/$a/analysis/control.states.csv\"\n",
    "        if isfile(pp)\n",
    "            c = readcsv(pp)\n",
    "            if control == nothing\n",
    "                control = c\n",
    "            else\n",
    "                control = vcat(control,c)\n",
    "            end\n",
    "        else\n",
    "            println(\">  missing $pp\")\n",
    "        end\n",
    "    end\n",
    "    if hand != nothing\n",
    "        writecsv(\"$path/combined/hand_control/$p/analysis/hand.sofastates.csv\",hand)\n",
    "    end\n",
    "    if control != nothing\n",
    "        writecsv(\"$path/combined/hand_control/$p/analysis/control.states.csv\", control)\n",
    "    end\n",
    "    next!(pg)\n",
    "end\n",
    "\n",
    "write_domains(\"/Users/zahedi/Dropbox/Raphael - Keyan/$dpdir/combined/hand_control/\")\n",
    "\n",
    "path = \"/Users/zahedi/Dropbox/Raphael\\ -\\ Keyan/$dpdir/\"\n",
    "dirs = readdir(path)\n",
    "dirs = filter(x->contains(x,\"hand\"), dirs)\n",
    "\n",
    "\n",
    "parents = map(x->replace(x, r\"^(.+)-object.+\", s\"\\g<1>\"),dirs)\n",
    "parents = unique(parents)\n",
    "\n",
    "fd = open(\"Makefile.4\",\"w\")\n",
    "write(fd,\"all:\\n\")\n",
    "for p in parents\n",
    "    command = \"/Users/zahedi/projects/builds/entropy-build/bin/rbo_mc -wi $(w_indices) -ai $(a_indices) -wbins $wbins -abins $abins -d \\\"$path/combined/hand_control/$p/analysis\\\"\"   \n",
    "    write(fd,\"\\t$command\\n\")\n",
    "end\n",
    "close(fd)\n",
    "run(`make -j 4 -f Makefile.4`)"
   ]
  },
  {
   "cell_type": "markdown",
   "metadata": {
    "collapsed": true
   },
   "source": [
    "### Auswertung"
   ]
  },
  {
   "cell_type": "code",
   "execution_count": null,
   "metadata": {
    "collapsed": false
   },
   "outputs": [],
   "source": [
    "dirs = readdir(\"$path/combined/hand_control\")\n",
    "in_dirs = filter(x->contains(x,\"hand\"), dirs)\n",
    "\n",
    "mc_files = map(x->\"$path/combined/hand_control/$x/analysis/mc_w-averaged_$(wbins)_$(abins).txt\", in_dirs)\n",
    "values   = map(x->readcsv(x)[1],mc_files)\n",
    "fd = open(\"$path/combined/hand_control/results_mc_w-averaged_$(wbins)_$(abins).txt\",\"w\")\n",
    "for i = 1:length(in_dirs)\n",
    "    write(fd, \"$(in_dirs[i]),$(values[i])\\n\")\n",
    "end\n",
    "close(fd)"
   ]
  },
  {
   "cell_type": "code",
   "execution_count": null,
   "metadata": {
    "collapsed": true
   },
   "outputs": [],
   "source": [
    "dirs = readdir(\"$path/combined/object_position\")\n",
    "in_dirs = filter(x->contains(x,\"hand\"), dirs)\n",
    "\n",
    "mc_files = map(x->\"$path/combined/object_position/$x/analysis/mc_w-averaged_$(wbins)_$(abins).txt\", in_dirs)\n",
    "values   = map(x->readcsv(x)[1],mc_files)\n",
    "fd = open(\"$path/combined/object_position/results_mc_w-averaged_$(wbins)_$(abins).txt\",\"w\")\n",
    "for i = 1:length(in_dirs)\n",
    "    write(fd, \"$(in_dirs[i]),$(values[i])\\n\")\n",
    "end\n",
    "close(fd)"
   ]
  },
  {
   "cell_type": "code",
   "execution_count": null,
   "metadata": {
    "collapsed": true
   },
   "outputs": [],
   "source": [
    "dirs = readdir(\"$path/combined/object_position_0\")\n",
    "in_dirs = filter(x->contains(x,\"hand\"), dirs)\n",
    "\n",
    "mc_files = map(x->\"$path/combined/object_position_0/$x/analysis/mc_w-averaged_$(wbins)_$(abins).txt\", in_dirs)\n",
    "values   = map(x->readcsv(x)[1],mc_files)\n",
    "fd = open(\"$path/combined/object_position_0/results_mc_w-averaged_$(wbins)_$(abins).txt\",\"w\")\n",
    "for i = 1:length(in_dirs)\n",
    "    write(fd, \"$(in_dirs[i]),$(values[i])\\n\")\n",
    "end\n",
    "close(fd)"
   ]
  },
  {
   "cell_type": "code",
   "execution_count": null,
   "metadata": {
    "collapsed": true
   },
   "outputs": [],
   "source": [
    "dirs = readdir(\"$path\")\n",
    "in_dirs = filter(x->contains(x,\"hand\"), dirs)\n",
    "\n",
    "mc_files = map(x->\"$path/$x/analysis/mc_w-averaged_$(wbins)_$(abins).txt\", in_dirs)\n",
    "values   = map(x->readcsv(x)[1],mc_files)\n",
    "fd = open(\"$path/results_mc_w-averaged_$(wbins)_$(abins).txt\",\"w\")\n",
    "for i = 1:length(in_dirs)\n",
    "    write(fd, \"$(in_dirs[i]),$(values[i])\\n\")\n",
    "end\n",
    "close(fd)"
   ]
  },
  {
   "cell_type": "markdown",
   "metadata": {
    "collapsed": true
   },
   "source": [
    "# Generate Plots"
   ]
  },
  {
   "cell_type": "code",
   "execution_count": null,
   "metadata": {
    "collapsed": false
   },
   "outputs": [],
   "source": [
    "dpdir = \"11b25143-e0b1-49cb-a450-1b682de090fc\"\n",
    "path = \"/Users/zahedi/Dropbox/Raphael\\ -\\ Keyan/$dpdir/\"\n",
    "wbins     = 300\n",
    "abins     = 100\n",
    "\n",
    "dirs  = readdir(path)\n",
    "dirs  = filter(x->contains(x,\"hand\"), dirs)\n",
    "names = filter(x->isdir(\"$path/$x/plots\"), dirs)\n",
    "ins   = map(x->\"$path/$x/analysis/mc_w-state_dependent_$(wbins)_$(abins).csv\", names)\n",
    "outs  = map(x->\"$path/$x/plots/mc_w.png\", names)\n",
    "\n",
    "ioff()\n",
    "\n",
    "for i = 1:length(ins)\n",
    "    data = readcsv(ins[i])\n",
    "    clf()\n",
    "    figure(figsize=(8,4))\n",
    "    xlabel(\"Time step\")\n",
    "    ylabel(\"MC_W(t)\")\n",
    "    name = replace(names[i], r\"(hand)(\\d)_(\\d)-(con\\w+)(\\d)-object(\\w+)_(.+)_(.+)_(.+)\", s\"\\g<1>: \\g<2>,\\g<3>; \\g<4>: \\g<5>; object: \\g<6>; pose: <\\g<7>,\\g<8>,\\g<9>>\")\n",
    "    title(name)\n",
    "    plot(collect(1:length(data)), data, lw=2);\n",
    "    savefig(outs[i])\n",
    "end"
   ]
  },
  {
   "cell_type": "code",
   "execution_count": null,
   "metadata": {
    "collapsed": true
   },
   "outputs": [],
   "source": []
  }
 ],
 "metadata": {
  "kernelspec": {
   "display_name": "Julia 0.4.6",
   "language": "julia",
   "name": "julia-0.4"
  },
  "language_info": {
   "file_extension": ".jl",
   "mimetype": "application/julia",
   "name": "julia",
   "version": "0.4.6"
  }
 },
 "nbformat": 4,
 "nbformat_minor": 0
}
