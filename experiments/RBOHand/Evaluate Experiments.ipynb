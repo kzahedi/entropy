{
 "cells": [
  {
   "cell_type": "markdown",
   "metadata": {},
   "source": [
    "Analysing the IROS Poster Data, for\n",
    "object      : cylinder\n",
    "object pose : 0,0,0\n",
    "controller  : 1,2,3\n",
    "with and without interaction\n",
    "\n",
    "1. Analyse Control Data\n",
    "2. Visualise Behaviour Data\n",
    "3. Preprocess control & behaviour data\n",
    "4. Analyse Data with MC_W, MC_MI, and MC_CW\n"
   ]
  },
  {
   "cell_type": "markdown",
   "metadata": {},
   "source": [
    "### Functions & Variables"
   ]
  },
  {
   "cell_type": "code",
   "execution_count": null,
   "metadata": {
    "collapsed": false
   },
   "outputs": [],
   "source": [
    "parent = \"/Users/zahedi/projects/TU.Berlin/experiments/poster\";\n",
    "name(hand,suffix,controller) = \"$parent/rbohand$hand$suffix/hand0_0-controller$controller-objectcylinder_0.0_0.0_0.0\"\n",
    "shortname(hand,suffix,controller) = \"rbohand$hand$suffix/hand0_0-controller$controller-objectcylinder_0.0_0.0_0.0\"\n",
    "\n",
    "function get_xyz(filename)\n",
    "    fd = open(filename)\n",
    "    lines = readlines(fd)\n",
    "    close(fd)\n",
    "    lines = lines[2:2:end]\n",
    "    s = split(strip(lines[1]), \" \")\n",
    "    v = collect(1:7:length(s)-1)\n",
    "    v = [[i,i+1,i+2] for i in v]\n",
    "    indices = v[1]\n",
    "    for i = 2:length(v)\n",
    "        indices = vcat(indices, v[i])\n",
    "    end\n",
    "    indices = indices .+ 1\n",
    "    values = zeros(length(lines), length(indices))\n",
    "    index = 1\n",
    "    for l in lines\n",
    "        s = split(strip(l), \" \")\n",
    "        values[index,:] = [parse(Float64,v) for v in s[indices]]\n",
    "        index = index + 1\n",
    "    end\n",
    "    return values\n",
    "end\n",
    "\n",
    "function get_xyz(hand, suffix, controller)\n",
    "    filename = \"$(name(hand,suffix,controller))/raw/hand.sofastates.txt\"\n",
    "    return get_xyz(filename)\n",
    "end\n",
    "\n",
    "check_differences(a, b, column) = sqrt(sum((a[column] - b[column]).^2))"
   ]
  },
  {
   "cell_type": "code",
   "execution_count": null,
   "metadata": {
    "collapsed": false
   },
   "outputs": [],
   "source": [
    "function plotHand(data,line,xmin,xmax,ymin,ymax,zmin,zmax)\n",
    "    f = figure()\n",
    "    xlim([xmin,xmax])\n",
    "    ylim([ymin,ymax])\n",
    "    zlim([zmin,zmax])\n",
    "    plot3D(\n",
    "    [data[line,1+3],data[line,1+2*3]],\n",
    "    [data[line,2+3],data[line,2+2*3]],\n",
    "    [data[line,3+3],data[line,3+2*3]]\n",
    "    )\n",
    "\n",
    "    for i in collect(1:5)\n",
    "        plot3D(\n",
    "        [data[line,1+i*3],data[line,1+(i+1)*3]],\n",
    "        [data[line,2+i*3],data[line,2+(i+1)*3]],\n",
    "        [data[line,3+i*3],data[line,3+(i+1)*3]])\n",
    "    end\n",
    "    # -> 6 is fingertip 1\n",
    "    \n",
    "    xlim([xmin,xmax])\n",
    "    ylim([ymin,ymax])\n",
    "    zlim([zmin,zmax])\n",
    "    plot3D(\n",
    "    [data[line,1+3],data[line,1+7*3]],\n",
    "    [data[line,2+3],data[line,2+7*3]],\n",
    "    [data[line,3+3],data[line,3+7*3]]\n",
    "    )\n",
    "\n",
    "    for i in collect(7:10)\n",
    "        plot3D(\n",
    "        [data[line,1+i*3],data[line,1+(i+1)*3]],\n",
    "        [data[line,2+i*3],data[line,2+(i+1)*3]],\n",
    "        [data[line,3+i*3],data[line,3+(i+1)*3]])\n",
    "    end\n",
    "    # -> 11 is fingertip 2\n",
    "\n",
    "    plot3D(\n",
    "    [data[line,1+3],data[line,1+12*3]],\n",
    "    [data[line,2+3],data[line,2+12*3]],\n",
    "    [data[line,3+3],data[line,3+12*3]]\n",
    "    )\n",
    "\n",
    "    for i in collect(12:15)\n",
    "        plot3D(\n",
    "        [data[line,1+i*3],data[line,1+(i+1)*3]],\n",
    "        [data[line,2+i*3],data[line,2+(i+1)*3]],\n",
    "        [data[line,3+i*3],data[line,3+(i+1)*3]])\n",
    "    end\n",
    "    # -> 16 is fingertip 3\n",
    "\n",
    "    plot3D(\n",
    "    [data[line,1+3],data[line,1+17*3]],\n",
    "    [data[line,2+3],data[line,2+17*3]],\n",
    "    [data[line,3+3],data[line,3+17*3]]\n",
    "    )\n",
    "\n",
    "    for i in collect(17:20)\n",
    "        plot3D(\n",
    "        [data[line,1+i*3],data[line,1+(i+1)*3]],\n",
    "        [data[line,2+i*3],data[line,2+(i+1)*3]],\n",
    "        [data[line,3+i*3],data[line,3+(i+1)*3]])\n",
    "    end\n",
    "    # -> 21 is fingertip 4\n",
    "\n",
    "    plot3D(\n",
    "    [data[line,1+3],data[line,1+22*3]],\n",
    "    [data[line,2+3],data[line,2+22*3]],\n",
    "    [data[line,3+3],data[line,3+22*3]]\n",
    "    )\n",
    "\n",
    "    for i in collect(22:30)\n",
    "        plot3D(\n",
    "        [data[line,1+i*3],data[line,1+(i+1)*3]],\n",
    "        [data[line,2+i*3],data[line,2+(i+1)*3]],\n",
    "        [data[line,3+i*3],data[line,3+(i+1)*3]])\n",
    "    end\n",
    "    savefig(\"/Users/zahedi/Desktop/plot_$line.png\")\n",
    "    close(f)\n",
    "end"
   ]
  },
  {
   "cell_type": "code",
   "execution_count": null,
   "metadata": {
    "collapsed": false
   },
   "outputs": [],
   "source": [
    "function create_video(hand,suffix,controller)\n",
    "    data = get_xyz(hand,suffix,controller)\n",
    "\n",
    "    xmin = minimum([minimum(data[:,i]) for i in collect(1:3:size(data)[2])])\n",
    "    xmax = maximum([maximum(data[:,i]) for i in collect(1:3:size(data)[2])])\n",
    "\n",
    "    ymin = minimum([minimum(data[:,i]) for i in collect(2:3:size(data)[2])])\n",
    "    ymax = maximum([maximum(data[:,i]) for i in collect(2:3:size(data)[2])])\n",
    "\n",
    "    zmin = minimum([minimum(data[:,i]) for i in collect(3:3:size(data)[2])])\n",
    "    zmax = maximum([maximum(data[:,i]) for i in collect(3:3:size(data)[2])])\n",
    "\n",
    "    for i in 1:size(data)[1]\n",
    "        plotHand(data,i,xmin,xmax,ymin,ymax,zmin,zmax)\n",
    "    end\n",
    "    \n",
    "    name = shortname(hand,suffix,controller)\n",
    "    name = replace(name,\"/\",\"_\")\n",
    "\n",
    "    run(`ffmpeg -y -framerate 5 -i /Users/zahedi/Desktop/plot_%d.png -c:v libx264 -r 30 -pix_fmt yuv420p /Users/zahedi/Desktop/$name.mp4`)\n",
    "\n",
    "    for i in 1:size(data)[1]\n",
    "        rm(\"/Users/zahedi/Desktop/plot_$i.png\")\n",
    "    end\n",
    "end"
   ]
  },
  {
   "cell_type": "markdown",
   "metadata": {},
   "source": [
    "# 1. Analyse Control Data"
   ]
  },
  {
   "cell_type": "code",
   "execution_count": null,
   "metadata": {
    "collapsed": false
   },
   "outputs": [],
   "source": [
    "using PyPlot\n",
    "using DataFrames\n",
    "using ProgressMeter"
   ]
  },
  {
   "cell_type": "markdown",
   "metadata": {},
   "source": [
    "## Reading all control data"
   ]
  },
  {
   "cell_type": "code",
   "execution_count": null,
   "metadata": {
    "collapsed": false
   },
   "outputs": [],
   "source": [
    "rbohand2_controller_0_control_states = readtable(\"$(name(2,\"\",0))/raw/control.states.csv\")\n",
    "rbohand2_prescriptive_controller_0_control_states = readtable(\"$(name(2,\"-prescriptive\",0))/raw/control.states.csv\")\n",
    "rbohand3_controller_0_control_states = readtable(\"$(name(3,\"\",0))/raw/control.states.csv\")\n",
    "rbohand3_prescriptive_controller_0_control_states = readtable(\"$(name(3,\"-prescriptive\",0))/raw/control.states.csv\")\n",
    "\n",
    "rbohand2_controller_1_control_states = readtable(\"$(name(2,\"\",1))/raw/control.states.csv\")\n",
    "rbohand2_prescriptive_controller_1_control_states = readtable(\"$(name(2,\"-prescriptive\",1))/raw/control.states.csv\")\n",
    "rbohand3_controller_1_control_states = readtable(\"$(name(3,\"\",1))/raw/control.states.csv\")\n",
    "rbohand3_prescriptive_controller_1_control_states = readtable(\"$(name(3,\"-prescriptive\",1))/raw/control.states.csv\")\n",
    "\n",
    "rbohand2_controller_2_control_states = readtable(\"$(name(2,\"\",2))/raw/control.states.csv\")\n",
    "rbohand2_prescriptive_controller_2_control_states = readtable(\"$(name(2,\"-prescriptive\",2))/raw/control.states.csv\")\n",
    "rbohand3_controller_2_control_states = readtable(\"$(name(3,\"\",2))/raw/control.states.csv\")\n",
    "rbohand3_prescriptive_controller_2_control_states = readtable(\"$(name(3,\"-prescriptive\",2))/raw/control.states.csv\")"
   ]
  },
  {
   "cell_type": "code",
   "execution_count": null,
   "metadata": {
    "collapsed": false
   },
   "outputs": [],
   "source": [
    "names1  = []\n",
    "names2  = []\n",
    "columns = []\n",
    "l2      = []\n",
    "\n",
    "for controller in [0,1,2]\n",
    "    for hand1 in [2,3]\n",
    "        for hand2 in [2,3]\n",
    "            for column in [:wrist_x, :wrist_y, :wrist_z, :wrist_rx, :wrist_ry, :wrist_rz, :wrist_rw, :pressure_0, :pressure_1, :pressure_2, :pressure_3, :pressure_4, :pressure_5]\n",
    "                name1 = name(hand1, \"\", controller)\n",
    "                name2 = name(hand2, \"-prescriptive\", controller)\n",
    "                if name1 != name2\n",
    "                    a = readtable(\"$(name(hand1,\"\",controller))/raw/control.states.csv\")\n",
    "                    b = readtable(\"$(name(hand2,\"-prescriptive\",controller))/raw/control.states.csv\")\n",
    "                    append!(names1,  [shortname(hand1, \"\", controller)])\n",
    "                    append!(names2,  [shortname(hand2, \"-prescriptive\", controller)])\n",
    "                    append!(columns, [column])\n",
    "                    append!(l2,[check_differences(a,b,column)])\n",
    "                end\n",
    "            end\n",
    "        end\n",
    "    end\n",
    "end\n",
    "\n",
    "for controller1 in [0,1,2]\n",
    "    for controller2 in [0,1,2]\n",
    "        for hand in [2,3]\n",
    "            for column in [:wrist_x, :wrist_y, :wrist_z, :wrist_rx, :wrist_ry, :wrist_rz, :wrist_rw, :pressure_0, :pressure_1, :pressure_2, :pressure_3, :pressure_4, :pressure_5]\n",
    "                name1 = name(hand, \"\", controller1)\n",
    "                name2 = name(hand, \"\", controller2)\n",
    "                if name1 != name2\n",
    "                    a = readtable(\"$(name(hand,\"\",controller1))/raw/control.states.csv\")\n",
    "                    b = readtable(\"$(name(hand,\"\",controller2))/raw/control.states.csv\")\n",
    "                    append!(names1,  [shortname(hand, \"\", controller1)])\n",
    "                    append!(names2,  [shortname(hand, \"\", controller2)])\n",
    "                    append!(columns, [column])\n",
    "                    append!(l2,[check_differences(a,b,column)])\n",
    "                end\n",
    "            end\n",
    "        end\n",
    "    end\n",
    "end\n",
    "\n",
    "differences_table = DataFrame()\n",
    "differences_table[:First]  = names1\n",
    "differences_table[:Second] = names2\n",
    "differences_table[:Column] = columns\n",
    "differences_table[:L2Norm] = l2\n",
    "writetable(\"/Users/zahedi/Desktop/comparison.csv\", differences_table)\n",
    "differences_table"
   ]
  },
  {
   "cell_type": "markdown",
   "metadata": {},
   "source": [
    "# 2. Analyse Behaviour Data"
   ]
  },
  {
   "cell_type": "code",
   "execution_count": null,
   "metadata": {
    "collapsed": false
   },
   "outputs": [],
   "source": [
    "rbohand2_prescriptive_controller_0_control_states = readtable(\"$(name(2,\"-prescriptive\",0))/raw/control.states.csv\")"
   ]
  },
  {
   "cell_type": "code",
   "execution_count": null,
   "metadata": {
    "collapsed": false
   },
   "outputs": [],
   "source": [
    "for hand in [2,3]\n",
    "    for suffix in [\"\", \"-prescriptive\"]\n",
    "        for controller in [0,1,2]\n",
    "            create_video(hand, suffix, controller)\n",
    "        end\n",
    "    end\n",
    "end"
   ]
  },
  {
   "cell_type": "markdown",
   "metadata": {},
   "source": [
    "# 3. Preprocess control and behaviour data"
   ]
  },
  {
   "cell_type": "code",
   "execution_count": null,
   "metadata": {
    "collapsed": false
   },
   "outputs": [],
   "source": [
    "parent = \"/Users/zahedi/projects/TU.Berlin/experiments/poster\";\n",
    "subdir = readdir(parent)\n",
    "subdir = filter(c->contains(c,\"rbohand\"),subdir)\n",
    "\n",
    "dirs = []\n",
    "\n",
    "for dir in subdir\n",
    "    d = readdir(\"$parent/$dir\")\n",
    "    d = filter(c->contains(c,\"hand\"), d)\n",
    "    d = [\"$parent/$dir/$v\" for v in d]\n",
    "    append!(dirs, d)\n",
    "end\n",
    "\n",
    "dirs[1:10]"
   ]
  },
  {
   "cell_type": "markdown",
   "metadata": {},
   "source": [
    "### 1) Preprocessing the files"
   ]
  },
  {
   "cell_type": "code",
   "execution_count": null,
   "metadata": {
    "collapsed": false
   },
   "outputs": [],
   "source": [
    "function copy_and_convert_hand(dirs)\n",
    "    in_dirs  = map(x->\"$x/raw\", dirs)\n",
    "    out_dirs = map(x->\"$x/analysis\", dirs)\n",
    "    \n",
    "    p = Progress(length(in_dirs)*1, 1, \"hand.sofastates.csv ...\")\n",
    "\n",
    "    for index in 1:length(in_dirs)\n",
    "        if isfile(\"$(in_dirs[index])/hand.sofastates.txt\")\n",
    "            m = get_xyz(\"$(in_dirs[index])/hand.sofastates.txt\")\n",
    "            for i = 5:3:size(m)[2]\n",
    "                m[:,i] = m[:,i] - m[:,2]\n",
    "            end\n",
    "            m = m[:,4:end]\n",
    "            if isdir(out_dirs[index]) == false\n",
    "                mkdir(out_dirs[index])\n",
    "            end\n",
    "            writecsv(\"$(out_dirs[index])/hand.sofastates.csv\",m)\n",
    "        end\n",
    "        next!(p)\n",
    "    end\n",
    "end"
   ]
  },
  {
   "cell_type": "code",
   "execution_count": null,
   "metadata": {
    "collapsed": false
   },
   "outputs": [],
   "source": [
    "function copy_and_convert_control(dirs)\n",
    "    \n",
    "    in_dirs  = map(x->\"$x/raw\", dirs)\n",
    "    out_dirs = map(x->\"$x/analysis\", dirs)\n",
    "    \n",
    "    p = Progress(length(in_dirs), 1, \"control.states.csv ...\")\n",
    "\n",
    "    for i in 1:length(in_dirs)\n",
    "        if isfile(\"$(in_dirs[i])/control.states.csv\")\n",
    "            a = readcsv(\"$(in_dirs[i])/control.states.csv\")[2:end-1,:]\n",
    "            a = map(x->Float64(x),a)\n",
    "            writecsv(\"$(out_dirs[i])/control.states.csv\",a)\n",
    "        end\n",
    "        next!(p)\n",
    "    end\n",
    "end\n",
    "\n",
    "function copy_and_convert_files(path)\n",
    "    copy_and_convert_hand(path)\n",
    "    copy_and_convert_control(path)\n",
    "end"
   ]
  },
  {
   "cell_type": "code",
   "execution_count": null,
   "metadata": {
    "collapsed": false
   },
   "outputs": [],
   "source": [
    "copy_and_convert_files(dirs)"
   ]
  },
  {
   "cell_type": "markdown",
   "metadata": {},
   "source": [
    "### 2)  Get Min/Max Values"
   ]
  },
  {
   "cell_type": "code",
   "execution_count": null,
   "metadata": {
    "collapsed": false
   },
   "outputs": [],
   "source": [
    "function write_domains(dirs)    \n",
    "    in_dirs      = map(x->\"$x/analysis\", dirs)\n",
    "    controlfiles = map(x->\"$x/control.states.csv\",in_dirs)\n",
    "    a_domains    = map(x->\"$x/A.domains.csv\",in_dirs)\n",
    "    handfiles    = map(x->\"$x/hand.sofastates.csv\",in_dirs)\n",
    "    w_domains    = map(x->\"$x/W.domains.csv\",in_dirs)\n",
    "\n",
    "    function minmax(in_,out_)\n",
    "        a = readcsv(in_)\n",
    "        b = minimum(a,1)\n",
    "        c = maximum(a,1)\n",
    "        d = vcat(b,c)\n",
    "        writecsv(out_, d)\n",
    "    end\n",
    "\n",
    "    p = Progress(length(in_dirs), 1, \"domain files ...\")\n",
    "\n",
    "    for i = 1:length(in_dirs)\n",
    "        if isfile(controlfiles[i])\n",
    "            minmax(controlfiles[i], a_domains[i])\n",
    "        end\n",
    "        if isfile(handfiles[i])\n",
    "            minmax(handfiles[i],w_domains[i])\n",
    "        end\n",
    "        next!(p)\n",
    "    end\n",
    "end\n",
    "\n",
    "write_domains(dirs)"
   ]
  },
  {
   "cell_type": "code",
   "execution_count": null,
   "metadata": {
    "collapsed": false
   },
   "outputs": [],
   "source": [
    "w_indices = join([\"$(i*3+1),$(i*3+2),$(i*3+3)\" for i in [5,10,15,20]],\",\")"
   ]
  },
  {
   "cell_type": "markdown",
   "metadata": {},
   "source": [
    "### 3)  Hand, Controller, Objects, Positions"
   ]
  },
  {
   "cell_type": "code",
   "execution_count": null,
   "metadata": {
    "collapsed": false,
    "scrolled": true
   },
   "outputs": [],
   "source": [
    "wbins     = 100\n",
    "abins     = 30\n",
    "\n",
    "# index 1 was removed when copying (wrist position)\n",
    "# -> 5 is fingertip 1\n",
    "# -> 10 is fingertip 2\n",
    "# -> 15 is fingertip 3\n",
    "# -> 20 is fingertip 4\n",
    "\n",
    "w_indices = join([\"$(i*3+1),$(i*3+2),$(i*3+3)\" for i in [5,10,15,20]],\",\")\n",
    "a_indices = \"8,9,10,11\"\n",
    "\n",
    "in_dirs = map(x->\"$x/analysis\", dirs)\n",
    "\n",
    "fd = open(\"Makefile.1\",\"w\")\n",
    "write(fd,\"all:\\n\")\n",
    "for d in in_dirs\n",
    "    command = \"/Users/zahedi/projects/builds/entropy-ninja/bin/rbo_mc -wi $(w_indices) -ai $(a_indices) -wbins $wbins -abins $abins -d \\\"$d\\\"\"   \n",
    "    write(fd,\"\\t$command\\n\")\n",
    "end\n",
    "close(fd)\n",
    "run(`make -j 4 -f Makefile.1`)"
   ]
  },
  {
   "cell_type": "markdown",
   "metadata": {
    "collapsed": true
   },
   "source": [
    "### SKIPPED 4) Hand, Controller, Objects, Average over positions"
   ]
  },
  {
   "cell_type": "code",
   "execution_count": null,
   "metadata": {
    "collapsed": false
   },
   "outputs": [],
   "source": [
    "parents = map(x->replace(x, r\"^(.+object\\w+)_.+$\", s\"\\g<1>\"),dirs)\n",
    "parents = unique(parents)\n",
    "\n",
    "for d in parents\n",
    "    mkpath(\"$path/combined/object_position/$d/analysis\")\n",
    "end\n",
    "\n",
    "pg = Progress(length(parents), 1, \"combine hand.sofastates.csv and control.states.csv ...\")\n",
    "\n",
    "for p in parents\n",
    "    ds = filter(x->contains(x,\"$(p)_\"),dirs)\n",
    "    hand = nothing\n",
    "    control = nothing\n",
    "    \n",
    "    for a in ds\n",
    "        pp = \"$path/$a/analysis/hand.sofastates.csv\"\n",
    "        if isfile(pp)\n",
    "            h = readcsv(pp)\n",
    "            if hand == nothing\n",
    "                hand = h\n",
    "            else\n",
    "                hand = vcat(hand,h)\n",
    "            end\n",
    "        else\n",
    "            println(\">  missing $pp\")\n",
    "        end\n",
    "\n",
    "        pp = \"$path/$a/analysis/control.states.csv\"\n",
    "        if isfile(pp)\n",
    "            c = readcsv(pp)\n",
    "            if control == nothing\n",
    "                control = c\n",
    "            else\n",
    "                control = vcat(control,c)\n",
    "            end\n",
    "        else\n",
    "            println(\">  missing $pp\")\n",
    "        end\n",
    "    end\n",
    "    if hand != nothing\n",
    "        writecsv(\"$path/combined/object_position/$p/analysis/hand.sofastates.csv\",hand)\n",
    "    end\n",
    "    if control != nothing\n",
    "        writecsv(\"$path/combined/object_position/$p/analysis/control.states.csv\", control)\n",
    "    end\n",
    "    next!(pg)\n",
    "end"
   ]
  },
  {
   "cell_type": "code",
   "execution_count": null,
   "metadata": {
    "collapsed": false
   },
   "outputs": [],
   "source": [
    "write_domains(\"$path/combined/object_position/\")"
   ]
  },
  {
   "cell_type": "code",
   "execution_count": null,
   "metadata": {
    "collapsed": false
   },
   "outputs": [],
   "source": [
    "parents = map(x->replace(x, r\"^(.+object\\w+)_.+$\", s\"\\g<1>\"),dirs)\n",
    "parents = unique(parents)\n",
    "\n",
    "fd = open(\"Makefile.2\",\"w\")\n",
    "write(fd,\"all:\\n\")\n",
    "for p in parents\n",
    "    command = \"/Users/zahedi/projects/builds/entropy-build/bin/rbo_mc -wi $(w_indices) -ai $(a_indices) -wbins $wbins -abins $abins -d \\\"$path/combined/object_position/$p/analysis\\\"\"   \n",
    "    write(fd,\"\\t$command\\n\")\n",
    "end\n",
    "close(fd)\n",
    "run(`make -j 4 -f Makefile.2`)"
   ]
  },
  {
   "cell_type": "markdown",
   "metadata": {},
   "source": [
    "### 5) Hand, Controller, Avg over Objects, Position = 0.0, 0.0, 0.0"
   ]
  },
  {
   "cell_type": "code",
   "execution_count": null,
   "metadata": {
    "collapsed": false
   },
   "outputs": [],
   "source": [
    "dirs = readdir(path)\n",
    "dirs = filter(x->contains(x,\"hand\"), dirs)\n",
    "dirs = filter(x->contains(x,\"_0.0_0.0_0.0\"), dirs)\n",
    "\n",
    "parents = map(x->replace(x, r\"^(.+)-object\\w+_0.0_0.0_0.0\", s\"\\g<1>\"),dirs)\n",
    "parents = unique(parents)\n",
    "\n",
    "for d in parents\n",
    "    mkpath(\"$path/combined/object_position_0/$d/analysis\")\n",
    "end\n",
    "\n",
    "for p in parents\n",
    "    println(p)\n",
    "    ds = filter(x->contains(x,\"$(p)\"),dirs)\n",
    "    hand = nothing\n",
    "    control = nothing\n",
    "    \n",
    "    for a in ds\n",
    "        pp = \"$path/$a/analysis/hand.sofastates.csv\"\n",
    "        #println(pp)\n",
    "        #println(a)\n",
    "        if isfile(pp)\n",
    "            h = readcsv(pp)\n",
    "            if hand == nothing\n",
    "                hand = h\n",
    "            else\n",
    "                hand = vcat(hand,h)\n",
    "            end\n",
    "        else\n",
    "            println(\">  missing $pp\")\n",
    "        end\n",
    "\n",
    "        pp = \"$path/$a/analysis/control.states.csv\"\n",
    "        if isfile(pp)\n",
    "            c = readcsv(pp)\n",
    "            if control == nothing\n",
    "                control = c\n",
    "            else\n",
    "                control = vcat(control,c)\n",
    "            end\n",
    "        else\n",
    "            println(\">  missing $pp\")\n",
    "        end\n",
    "    end\n",
    "    if hand != nothing\n",
    "        writecsv(\"$path/combined/object_position_0/$p/analysis/hand.sofastates.csv\",hand)\n",
    "    end\n",
    "    if control != nothing\n",
    "        writecsv(\"$path/combined/object_position_0/$p/analysis/control.states.csv\", control)\n",
    "    end\n",
    "    next!(pg)\n",
    "end\n",
    "\n",
    "write_domains(\"$path/combined/object_position_0/\")\n",
    "\n",
    "dirs = readdir(path)\n",
    "dirs = filter(x->contains(x,\"hand\"), dirs)\n",
    "dirs = filter(x->contains(x,\"_0.0_0.0_0.0\"), dirs)\n",
    "\n",
    "parents = map(x->replace(x, r\"^(.+)-object\\w+_0.0_0.0_0.0\", s\"\\g<1>\"),dirs)\n",
    "parents = unique(parents)\n",
    "\n",
    "fd = open(\"Makefile.3\",\"w\")\n",
    "write(fd,\"all:\\n\")\n",
    "for p in parents\n",
    "    command = \"/Users/zahedi/projects/builds/entropy-build/bin/rbo_mc -wi $(w_indices) -ai $(a_indices) -wbins $wbins -abins $abins -d \\\"$path/combined/object_position_0/$p/analysis\\\"\"   \n",
    "    write(fd,\"\\t$command\\n\")\n",
    "end\n",
    "close(fd)\n",
    "run(`make -j 4 -f Makefile.3`)"
   ]
  },
  {
   "cell_type": "markdown",
   "metadata": {},
   "source": [
    "### 6) Hand, Controller, Avg over Objects, Avg Position"
   ]
  },
  {
   "cell_type": "code",
   "execution_count": null,
   "metadata": {
    "collapsed": false
   },
   "outputs": [],
   "source": [
    "dirs = readdir(path)\n",
    "dirs = filter(x->contains(x,\"hand\"), dirs)\n",
    "\n",
    "parents = map(x->replace(x, r\"^(.+)-object.+\", s\"\\g<1>\"),dirs)\n",
    "parents = unique(parents)\n",
    "\n",
    "for d in parents\n",
    "    mkpath(\"$path/combined/hand_control/$d/analysis\")\n",
    "end\n",
    "\n",
    "for p in parents\n",
    "    println(p)\n",
    "    ds = filter(x->contains(x,\"$(p)\"),dirs)\n",
    "    hand = nothing\n",
    "    control = nothing\n",
    "    \n",
    "    for a in ds\n",
    "        pp = \"$path/$a/analysis/hand.sofastates.csv\"\n",
    "        #println(pp)\n",
    "        #println(a)\n",
    "        if isfile(pp)\n",
    "            h = readcsv(pp)\n",
    "            if hand == nothing\n",
    "                hand = h\n",
    "            else\n",
    "                hand = vcat(hand,h)\n",
    "            end\n",
    "        else\n",
    "            println(\">  missing $pp\")\n",
    "        end\n",
    "\n",
    "        pp = \"$path/$a/analysis/control.states.csv\"\n",
    "        if isfile(pp)\n",
    "            c = readcsv(pp)\n",
    "            if control == nothing\n",
    "                control = c\n",
    "            else\n",
    "                control = vcat(control,c)\n",
    "            end\n",
    "        else\n",
    "            println(\">  missing $pp\")\n",
    "        end\n",
    "    end\n",
    "    if hand != nothing\n",
    "        writecsv(\"$path/combined/hand_control/$p/analysis/hand.sofastates.csv\",hand)\n",
    "    end\n",
    "    if control != nothing\n",
    "        writecsv(\"$path/combined/hand_control/$p/analysis/control.states.csv\", control)\n",
    "    end\n",
    "    next!(pg)\n",
    "end\n",
    "\n",
    "write_domains(\"$path/combined/hand_control/\")\n",
    "\n",
    "dirs = readdir(path)\n",
    "dirs = filter(x->contains(x,\"hand\"), dirs)\n",
    "\n",
    "parents = map(x->replace(x, r\"^(.+)-object.+\", s\"\\g<1>\"),dirs)\n",
    "parents = unique(parents)\n",
    "\n",
    "fd = open(\"Makefile.4\",\"w\")\n",
    "write(fd,\"all:\\n\")\n",
    "for p in parents\n",
    "    command = \"/Users/zahedi/projects/builds/entropy-build/bin/rbo_mc -wi $(w_indices) -ai $(a_indices) -wbins $wbins -abins $abins -d \\\"$path/combined/hand_control/$p/analysis\\\"\"   \n",
    "    write(fd,\"\\t$command\\n\")\n",
    "end\n",
    "close(fd)\n",
    "run(`make -j 4 -f Makefile.4`)"
   ]
  },
  {
   "cell_type": "markdown",
   "metadata": {
    "collapsed": true
   },
   "source": [
    "### Auswertung"
   ]
  },
  {
   "cell_type": "code",
   "execution_count": null,
   "metadata": {
    "collapsed": false
   },
   "outputs": [],
   "source": [
    "dirs = readdir(\"$path/combined/hand_control\")\n",
    "in_dirs = filter(x->contains(x,\"hand\"), dirs)\n",
    "\n",
    "mc_files = map(x->\"$path/combined/hand_control/$x/analysis/mc_w-averaged_$(wbins)_$(abins).txt\", in_dirs)\n",
    "values   = map(x->readcsv(x)[1],mc_files)\n",
    "fd = open(\"$path/combined/hand_control/results_mc_w-averaged_$(wbins)_$(abins).txt\",\"w\")\n",
    "for i = 1:length(in_dirs)\n",
    "    write(fd, \"$(in_dirs[i]),$(values[i])\\n\")\n",
    "end\n",
    "close(fd)"
   ]
  },
  {
   "cell_type": "code",
   "execution_count": null,
   "metadata": {
    "collapsed": true
   },
   "outputs": [],
   "source": [
    "dirs = readdir(\"$path/combined/object_position\")\n",
    "in_dirs = filter(x->contains(x,\"hand\"), dirs)\n",
    "\n",
    "mc_files = map(x->\"$path/combined/object_position/$x/analysis/mc_w-averaged_$(wbins)_$(abins).txt\", in_dirs)\n",
    "values   = map(x->readcsv(x)[1],mc_files)\n",
    "fd = open(\"$path/combined/object_position/results_mc_w-averaged_$(wbins)_$(abins).txt\",\"w\")\n",
    "for i = 1:length(in_dirs)\n",
    "    write(fd, \"$(in_dirs[i]),$(values[i])\\n\")\n",
    "end\n",
    "close(fd)"
   ]
  },
  {
   "cell_type": "code",
   "execution_count": null,
   "metadata": {
    "collapsed": true
   },
   "outputs": [],
   "source": [
    "dirs = readdir(\"$path/combined/object_position_0\")\n",
    "in_dirs = filter(x->contains(x,\"hand\"), dirs)\n",
    "\n",
    "mc_files = map(x->\"$path/combined/object_position_0/$x/analysis/mc_w-averaged_$(wbins)_$(abins).txt\", in_dirs)\n",
    "values   = map(x->readcsv(x)[1],mc_files)\n",
    "fd = open(\"$path/combined/object_position_0/results_mc_w-averaged_$(wbins)_$(abins).txt\",\"w\")\n",
    "for i = 1:length(in_dirs)\n",
    "    write(fd, \"$(in_dirs[i]),$(values[i])\\n\")\n",
    "end\n",
    "close(fd)"
   ]
  },
  {
   "cell_type": "code",
   "execution_count": null,
   "metadata": {
    "collapsed": false
   },
   "outputs": [],
   "source": [
    "dirs = readdir(\"$path\")\n",
    "in_dirs = filter(x->contains(x,\"hand\"), dirs)\n",
    "\n",
    "mc_files = map(x->\"$path/$x/analysis/mc_w-averaged_$(wbins)_$(abins).txt\", in_dirs)\n",
    "values   = map(x->readcsv(x)[1],mc_files)\n",
    "fd = open(\"$path/results_mc_w-averaged_$(wbins)_$(abins).txt\",\"w\")\n",
    "for i = 1:length(in_dirs)\n",
    "    write(fd, \"$(in_dirs[i]),$(values[i])\\n\")\n",
    "end\n",
    "close(fd)"
   ]
  },
  {
   "cell_type": "code",
   "execution_count": null,
   "metadata": {
    "collapsed": true
   },
   "outputs": [],
   "source": []
  }
 ],
 "metadata": {
  "kernelspec": {
   "display_name": "Julia 0.4.6",
   "language": "julia",
   "name": "julia-0.4"
  },
  "language_info": {
   "file_extension": ".jl",
   "mimetype": "application/julia",
   "name": "julia",
   "version": "0.4.6"
  }
 },
 "nbformat": 4,
 "nbformat_minor": 0
}
