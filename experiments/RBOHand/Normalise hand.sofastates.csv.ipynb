{
 "cells": [
  {
   "cell_type": "code",
   "execution_count": 7,
   "metadata": {
    "collapsed": false
   },
   "outputs": [],
   "source": [
    "experiment = \"rbohand2\"\n",
    "\n",
    "parent = \"/Users/zahedi/projects/TU.Berlin/experiments/new/experiment1/\"\n",
    "path = \"$parent/$experiment\"\n",
    "\n",
    "dirs = readdir(path)\n",
    "dirs = filter(x->contains(x,\"hand\"), dirs)\n",
    "dirs = map(x->\"$path/$x/analysis\", dirs)\n",
    "\n",
    "ins  = map(x->\"$x/hand.sofastates.csv\", dirs)\n",
    "outs = map(x->\"$x/normalised.hand.sofastates.csv\", dirs)\n",
    ";"
   ]
  },
  {
   "cell_type": "code",
   "execution_count": 28,
   "metadata": {
    "collapsed": false
   },
   "outputs": [
    {
     "data": {
      "text/plain": [
       "get_max_diff (generic function with 1 method)"
      ]
     },
     "execution_count": 28,
     "metadata": {},
     "output_type": "execute_result"
    }
   ],
   "source": [
    "function get_max_diff(file)\n",
    "    data = readcsv(file)\n",
    "    dmin = minimum(data,1)\n",
    "    dmax = maximum(data,1)\n",
    "    diff = maximum(dmax - dmin)\n",
    "    diff\n",
    "end"
   ]
  },
  {
   "cell_type": "code",
   "execution_count": 45,
   "metadata": {
    "collapsed": false
   },
   "outputs": [
    {
     "data": {
      "text/plain": [
       "273.51599999999996"
      ]
     },
     "execution_count": 45,
     "metadata": {},
     "output_type": "execute_result"
    }
   ],
   "source": [
    "max_diff = maximum(map(x->get_max_diff(x), ins))"
   ]
  },
  {
   "cell_type": "code",
   "execution_count": 60,
   "metadata": {
    "collapsed": false
   },
   "outputs": [
    {
     "data": {
      "text/plain": [
       "normalise_file (generic function with 1 method)"
      ]
     },
     "execution_count": 60,
     "metadata": {},
     "output_type": "execute_result"
    }
   ],
   "source": [
    "function normalise_file(file, output, diff)\n",
    "    data = readcsv(file)\n",
    "    dmin = minimum(data,1)\n",
    "    dmax = maximum(data,1)\n",
    "    for i = 1:size(data,2)\n",
    "        data[:,i] = data[:,i] - dmin[i]\n",
    "        data[:,i] = data[:,i] / diff\n",
    "    end\n",
    "    writecsv(output, data)\n",
    "end"
   ]
  },
  {
   "cell_type": "code",
   "execution_count": 61,
   "metadata": {
    "collapsed": false
   },
   "outputs": [],
   "source": [
    "for i = 1:length(ins)\n",
    "    normalise_file(ins[i], outs[i], max_diff)\n",
    "end"
   ]
  },
  {
   "cell_type": "code",
   "execution_count": null,
   "metadata": {
    "collapsed": true
   },
   "outputs": [],
   "source": []
  }
 ],
 "metadata": {
  "kernelspec": {
   "display_name": "Julia 0.4.6",
   "language": "julia",
   "name": "julia-0.4"
  },
  "language_info": {
   "file_extension": ".jl",
   "mimetype": "application/julia",
   "name": "julia",
   "version": "0.4.6"
  }
 },
 "nbformat": 4,
 "nbformat_minor": 0
}
