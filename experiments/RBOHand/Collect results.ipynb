{
 "cells": [
  {
   "cell_type": "code",
   "execution_count": 9,
   "metadata": {
    "collapsed": true
   },
   "outputs": [],
   "source": [
    "using DataFrames"
   ]
  },
  {
   "cell_type": "code",
   "execution_count": 27,
   "metadata": {
    "collapsed": false
   },
   "outputs": [
    {
     "name": "stdout",
     "output_type": "stream",
     "text": [
      "3000\n",
      "24\n",
      "3000\n",
      "24\n"
     ]
    }
   ],
   "source": [
    "experiment = \"rbohand2\"\n",
    "\n",
    "parent = \"/Users/zahedi/projects/TU.Berlin/experiments/new/experiment1/\"\n",
    "path = \"$parent/$experiment\"\n",
    "\n",
    "dirs = readdir(path)\n",
    "dirs = filter(x->contains(x,\"hand\"), dirs)\n",
    "dirs = map(x->\"$path/$x/analysis\", dirs)\n",
    "\n",
    "ins1  = map(x->\"$x/mc_w-averaged_500_100.txt\", dirs)\n",
    "rbohand2 = map(x->readcsv(x), ins1)\n",
    "println(length(ins1))\n",
    "\n",
    "#############################################\n",
    "\n",
    "experiment = \"rbohand2-prescriptive\"\n",
    "\n",
    "parent = \"/Users/zahedi/projects/TU.Berlin/experiments/new/experiment1/\"\n",
    "path = \"$parent/$experiment\"\n",
    "\n",
    "dirs = readdir(path)\n",
    "dirs = filter(x->contains(x,\"hand\"), dirs)\n",
    "dirs = map(x->\"$path/$x/analysis\", dirs)\n",
    "\n",
    "ins2  = map(x->\"$x/mc_w-averaged_500_100.txt\", dirs)\n",
    "rbohand2p = map(x->readcsv(x), ins2)\n",
    "\n",
    "println(length(ins2))\n",
    "\n",
    "#############################################\n",
    "\n",
    "experiment = \"rbohand3\"\n",
    "\n",
    "parent = \"/Users/zahedi/projects/TU.Berlin/experiments/new/experiment1/\"\n",
    "path = \"$parent/$experiment\"\n",
    "\n",
    "dirs = readdir(path)\n",
    "dirs = filter(x->contains(x,\"hand\"), dirs)\n",
    "dirs = map(x->\"$path/$x/analysis\", dirs)\n",
    "\n",
    "ins3  = map(x->\"$x/mc_w-averaged_500_100.txt\", dirs)\n",
    "rbohand3 = map(x->readcsv(x), ins3)\n",
    "\n",
    "println(length(ins3))\n",
    "\n",
    "#############################################\n",
    "\n",
    "experiment = \"rbohand3-prescriptive\"\n",
    "\n",
    "parent = \"/Users/zahedi/projects/TU.Berlin/experiments/new/experiment1/\"\n",
    "path = \"$parent/$experiment\"\n",
    "\n",
    "dirs = readdir(path)\n",
    "dirs = filter(x->contains(x,\"hand\"), dirs)\n",
    "dirs = map(x->\"$path/$x/analysis\", dirs)\n",
    "\n",
    "ins4  = map(x->\"$x/mc_w-averaged_500_100.txt\", dirs)\n",
    "rbohand3p = map(x->readcsv(x), ins4)\n",
    "\n",
    "println(length(ins4))\n",
    ";"
   ]
  },
  {
   "cell_type": "code",
   "execution_count": 30,
   "metadata": {
    "collapsed": false
   },
   "outputs": [],
   "source": [
    "mcw = DataFrame()\n",
    "mcw[:Names]     = map(x->split(x,\"/\")[end-2],ins1)\n",
    "mcw[:RBOHand2]  = map(x->x[1], rbohand2)\n",
    "#mcw[:RBOHand2P] = map(x->x[1], rbohand2p)\n",
    "mcw[:RBOHand3]  = map(x->x[1], rbohand3)\n",
    "#mcw[:RBOHand3P] = map(x->x[1], rbohand3p)\n",
    "mcw\n",
    "\n",
    "writetable(\"/Users/zahedi/Desktop/rbohand23.csv\", mcw)"
   ]
  },
  {
   "cell_type": "code",
   "execution_count": 31,
   "metadata": {
    "collapsed": false
   },
   "outputs": [],
   "source": [
    "mcw = DataFrame()\n",
    "mcw[:Names]     = map(x->split(x,\"/\")[end-2],ins2)\n",
    "#mcw[:RBOHand2]  = map(x->x[1], rbohand2)\n",
    "mcw[:RBOHand2P] = map(x->x[1], rbohand2p)\n",
    "#mcw[:RBOHand3]  = map(x->x[1], rbohand3)\n",
    "mcw[:RBOHand3P] = map(x->x[1], rbohand3p)\n",
    "mcw\n",
    "\n",
    "writetable(\"/Users/zahedi/Desktop/rbohand23p.csv\", mcw)"
   ]
  },
  {
   "cell_type": "code",
   "execution_count": null,
   "metadata": {
    "collapsed": true
   },
   "outputs": [],
   "source": []
  }
 ],
 "metadata": {
  "kernelspec": {
   "display_name": "Julia 0.4.6",
   "language": "julia",
   "name": "julia-0.4"
  },
  "language_info": {
   "file_extension": ".jl",
   "mimetype": "application/julia",
   "name": "julia",
   "version": "0.4.6"
  }
 },
 "nbformat": 4,
 "nbformat_minor": 0
}
